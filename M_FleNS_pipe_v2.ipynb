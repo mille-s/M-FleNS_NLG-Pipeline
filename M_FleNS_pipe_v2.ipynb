{
  "nbformat": 4,
  "nbformat_minor": 0,
  "metadata": {
    "colab": {
      "provenance": [],
      "include_colab_link": true
    },
    "kernelspec": {
      "name": "python3",
      "display_name": "Python 3"
    },
    "language_info": {
      "name": "python"
    }
  },
  "cells": [
    {
      "cell_type": "markdown",
      "metadata": {
        "id": "view-in-github",
        "colab_type": "text"
      },
      "source": [
        "<a href=\"https://colab.research.google.com/github/mille-s/M-FleNS_NLG-Pipeline/blob/main/M_FleNS_pipe_v2.ipynb\" target=\"_parent\"><img src=\"https://colab.research.google.com/assets/colab-badge.svg\" alt=\"Open In Colab\"/></a>"
      ]
    },
    {
      "cell_type": "markdown",
      "source": [
        "## **Did you update FORGe resources?** If yes click to run!"
      ],
      "metadata": {
        "id": "j9J8qA2O5PQd"
      }
    },
    {
      "cell_type": "code",
      "source": [
        "# Run this cell to download and unzip the working folder and install Java 8\n",
        "# Once run, click \"Refresh\" on the top left corner to see the folders)\n",
        "from IPython.display import clear_output\n",
        "import os\n",
        "\n",
        "# clone repo\n",
        "! git clone https://github.com/mille-s/M-FleNS_NLG-Pipeline.git\n",
        "# Delete locally to avoid confusion\n",
        "! rm '/content/M-FleNS_NLG-Pipeline/M-FleNS-pipe_v2.ipynb'\n",
        "\n",
        "# Download FORGe\n",
        "! gdown 1lsh8pwUp9mc0Z_aFbSy1WTIpSx9YwFFD\n",
        "! unzip /content/FORGe_colab_v3_WebNLG.zip\n",
        "\n",
        "# Clean\n",
        "! rm '/content/FORGe_colab_v3_WebNLG.zip'\n",
        "clear_output()\n",
        "print('Working folder ready!\\n--------------')\n",
        "\n",
        "# Run to switch to Java 1.8 (needed for FORGe to run correctly)\n",
        "def install_java():\n",
        "  !apt-get install -y openjdk-8-jdk-headless -qq > /dev/null      #install openjdk\n",
        "  os.environ[\"JAVA_HOME\"] = \"/usr/lib/jvm/java-8-openjdk-amd64\"     #set environment variable\n",
        "  !update-alternatives --set java /usr/lib/jvm/java-8-openjdk-amd64/jre/bin/java\n",
        "  !java -version       #check java version\n",
        "install_java()"
      ],
      "metadata": {
        "id": "6-TAUvlK-ccy"
      },
      "execution_count": null,
      "outputs": []
    },
    {
      "cell_type": "code",
      "source": [
        "from genericpath import exists\n",
        "# Run this cell to set parameters for generation\n",
        "\n",
        "# The input structure(s) of the correct type should be placed in the folder that corresponds to the first module called in the next cell\n",
        "# E.g. if one a module PredArg_... or DSynt_... is selected, the input predicate-argument structures should be placed in the structures/00-PredArg folder\n",
        "# I'll make the instructions and names clearer in a later (actually usable) version.\n",
        "\n",
        "############# Select language #############\n",
        "language = 'EN' #@param['EN', 'ES', 'FR', 'GA']\n",
        "\n",
        "############# Select dataset split #############\n",
        "split = \"ukn\" #@param['dev', 'test','train','ukn']\n",
        "\n",
        "############# Select module grouping #############\n",
        "# Group consecutive modules for the same system or call each module separately.\n",
        "# Select 'no' to get all intermediate representations, 'yes' if you're only interested in the output.\n",
        "group_modules_prm = 'no' #@param['yes', 'no']\n",
        "\n",
        "#######################################################################\n",
        "\n",
        "# Modules to run, with type of processing (FORGe, Model1, SimpleNLG, etc.).\n",
        "# Only FORGe is supported for this prototype version.\n",
        "# What if a module spans over several of these?\n",
        "PredArg_Normalisation = 'FORGe'\n",
        "# To have an external module assigning triples to aggregate\n",
        "PredArg_AggregationMark = 'None'\n",
        "PredArg_Aggregation = 'FORGe'\n",
        "PredArg_PoSTagging = 'FORGe'\n",
        "PredArg_CommStructuring = 'FORGe'\n",
        "DSynt_Structuring = 'FORGe'\n",
        "SSynt_Structuring = 'FORGe'\n",
        "SSynt_Aggregation = 'FORGe'\n",
        "RE_Generation = 'FORGe'\n",
        "DMorph_AgreementsLinearisation = 'FORGe'\n",
        "SMorph_Processing = 'FORGe'\n",
        "# Define all micro modules and several higher level modules that can overlap, the highest level being the one-shot generation.\n",
        "#Surface_Generation = 'IMS' # That could take DSynt/SSynt as input and return text; to be defined during the query processing\n",
        "\n",
        "#######################################################################\n",
        "# Paths to python files\n",
        "path_MFleNS = '/content/M-FleNS.py'\n",
        "path_checkOutputs = '/content/M-FleNS-checkOutputs.py'\n",
        "\n",
        "#######################################################################\n",
        "# Paths to FORGe/MATE folders and property files\n",
        "FORGe_input_folder = '/content/FORGe/buddy_project/struct'\n",
        "path_MATE = '/content/FORGe/buddy-patched.jar'\n",
        "path_props_resources_template = '/content/FORGe/mateColabDrive.properties'\n",
        "path_props_levels = '/content/FORGe/mateLevels.properties'\n",
        "path_props = '/content/FORGe/mate.properties'\n",
        "\n",
        "# Paths to general folders\n",
        "# The input structure(s) of the correct type should be placed in the folder that corresponds to the first module called in the next cell\n",
        "str_PredArg_folder = '/content/FORGe/structures/00-PredArg'\n",
        "str_PredArgNorm_folder = '/content/FORGe/structures/01-PredArgNorm'\n",
        "str_PredArgAggMark_folder = '/content/FORGe/structures/02-PredArgAggMark'\n",
        "str_PredArgAgg_folder = '/content/FORGe/structures/03-PredArgAgg'\n",
        "str_PredArgPoS_folder = '/content/FORGe/structures/04-PredArgPoS'\n",
        "str_PredArgComm_folder = '/content/FORGe/structures/05-PredArgComm'\n",
        "str_DSynt_folder = '/content/FORGe/structures/06-DSynt'\n",
        "str_SSynt_folder = '/content/FORGe/structures/07-SSynt'\n",
        "str_SSyntAgg_folder = '/content/FORGe/structures/08-SSyntAgg'\n",
        "str_REG_folder = '/content/FORGe/structures/09-REG'\n",
        "str_DMorphLin_folder = '/content/FORGe/structures/10-DMorphLin'\n",
        "str_SMorphText_folder = '/content/FORGe/structures/11-SMorphText'\n",
        "log_folder = '/content/FORGe/log'\n",
        "if not os.path.exists(log_folder):\n",
        "  os.makedirs(log_folder)"
      ],
      "metadata": {
        "id": "QTOh-EV5LB_z"
      },
      "execution_count": 4,
      "outputs": []
    },
    {
      "cell_type": "code",
      "source": [
        "# Call M-FLeNS\n",
        "! python {path_MFleNS} {language} {split} {group_modules_prm} {PredArg_Normalisation} {PredArg_AggregationMark} {PredArg_Aggregation} {PredArg_PoSTagging} {PredArg_CommStructuring} {DSynt_Structuring} {SSynt_Structuring} {SSynt_Aggregation} {RE_Generation} {DMorph_AgreementsLinearisation} {SMorph_Processing} {FORGe_input_folder} {path_MATE} {path_props_resources_template} {path_props_levels} {path_props} {str_PredArg_folder} {str_PredArgNorm_folder} {str_PredArgAggMark_folder} {str_PredArgAgg_folder} {str_PredArgPoS_folder} {str_PredArgComm_folder} {str_DSynt_folder} {str_SSynt_folder} {str_SSyntAgg_folder} {str_REG_folder} {str_DMorphLin_folder} {str_SMorphText_folder} {log_folder}"
      ],
      "metadata": {
        "id": "zGIzY0OMN_Wx"
      },
      "execution_count": null,
      "outputs": []
    },
    {
      "cell_type": "code",
      "source": [
        "# Check outputs\n",
        "! python {path_checkOutputs} {str_PredArg_folder} {str_SMorphText_folder} {log_folder}"
      ],
      "metadata": {
        "id": "gNo2LPxIuVya"
      },
      "execution_count": null,
      "outputs": []
    },
    {
      "cell_type": "code",
      "source": [
        "# Zip output folder to download\n",
        "!zip -r /content/WebNLG_[{language}]_[{split}]_allLevels.zip /content/FORGe/structures\n",
        "!zip -r /content/WebNLG_[{language}]_[{split}]_logs.zip /content/FORGe/log"
      ],
      "metadata": {
        "id": "Nw7GmSRzX9Vq"
      },
      "execution_count": null,
      "outputs": []
    }
  ]
}